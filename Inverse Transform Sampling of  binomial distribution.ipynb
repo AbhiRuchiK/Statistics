{
 "cells": [
  {
   "cell_type": "code",
   "execution_count": 9,
   "metadata": {},
   "outputs": [
    {
     "data": {
      "image/png": "[encoded data removed]",
      "text/plain": [
       "<matplotlib.figure.Figure at 0x7f3af686eef0>"
      ]
     },
     "metadata": {},
     "output_type": "display_data"
    }
   ],
   "source": [
    "import numpy as np \n",
    "import math\n",
    "from random import randint\n",
    "from matplotlib import pyplot as plt\n",
    "from collections import Counter\n",
    "def factorial(f):\n",
    "    if f==0 or f==1:\n",
    "        return 1\n",
    "    else:\n",
    "        return f*factorial(f-1) \n",
    "N= 10\n",
    "P = .6\n",
    "q = 1-P\n",
    "KValues = []\n",
    "KProbability = []\n",
    "for i in range(100000):\n",
    "    KRandomValue = np.random.rand()\n",
    "    k=0\n",
    "    distribution =0\n",
    "    while distribution<KRandomValue and k<=10:\n",
    "        distribution = distribution + ( (math.factorial(N)/(math.factorial(k)*math.factorial(N-k))) * (P**k) * (q**(N-k)) )\n",
    "        k+=1 \n",
    "    k-=1\n",
    "    KValues.append(k) \n",
    "\n",
    "KValues.sort()\n",
    "KValues=Counter(KValues)\n",
    "\n",
    "# MaxValue = max(KValues)\n",
    "# KValuesFreq = [0]*(MaxValue+1)\n",
    "\n",
    "# for i in KValues:\n",
    "#     KValuesFreq[i] += 1\n",
    "\n",
    "# KUniqueValues = []\n",
    "\n",
    "# for i in range(0, MaxValue+1):\n",
    "#     KUniqueValues.append(i)\n",
    "0 \n",
    "plt.bar(KValues.keys(),KValues.values() )\n",
    "#plt.bar(KUniqueValues, KValuesFreq)\n",
    "plt.show()    "
   ]
  },
  {
   "cell_type": "code",
   "execution_count": null,
   "metadata": {
    "collapsed": true
   },
   "outputs": [],
   "source": []
  }
 ],
 "metadata": {
  "kernelspec": {
   "display_name": "Python 3",
   "language": "python",
   "name": "python3"
  },
  "language_info": {
   "codemirror_mode": {
    "name": "ipython",
    "version": 3
   },
   "file_extension": ".py",
   "mimetype": "text/x-python",
   "name": "python",
   "nbconvert_exporter": "python",
   "pygments_lexer": "ipython3",
   "version": "3.6.5"
  }
 },
 "nbformat": 4,
 "nbformat_minor": 2
}
