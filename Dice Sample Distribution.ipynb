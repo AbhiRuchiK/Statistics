{
 "cells": [
  {
   "cell_type": "code",
   "execution_count": 1,
   "metadata": {},
   "outputs": [
    {
     "name": "stdout",
     "output_type": "stream",
     "text": [
      "Counter({3.8: 668, 4.2: 663, 4.0: 641, 3.6: 633, 4.4: 603, 4.6: 549, 3.4: 519, 4.8: 470, 3.2: 465, 5.0: 420, 3.0: 354, 2.8: 322, 5.2: 312, 5.4: 252, 2.6: 213, 2.4: 145, 5.6: 142, 5.8: 85, 2.2: 81, 6.0: 60, 2.0: 44, 6.2: 36, 1.8: 30, 6.4: 25, 1.6: 22, 6.6: 7, 1.4: 6, 6.8: 5, 1.2: 4})\n",
      "Counter({4.0: 650, 3.6: 643, 4.2: 640, 3.8: 609, 4.4: 607, 3.4: 556, 4.6: 538, 3.2: 495, 4.8: 468, 5.0: 395, 3.0: 351, 2.8: 309, 5.2: 304, 5.4: 238, 2.6: 201, 2.4: 169, 5.6: 153, 5.8: 107, 2.2: 98, 2.0: 59, 6.0: 54, 6.2: 34, 1.8: 29, 6.4: 24, 1.6: 16, 6.6: 13, 1.4: 8, 6.8: 6, 1.2: 2})\n",
      "Counter({4.0: 685, 4.2: 659, 4.4: 649, 3.8: 636, 3.6: 590, 3.4: 531, 4.6: 519, 4.8: 508, 3.2: 442, 3.0: 372, 5.0: 364, 2.8: 317, 5.2: 289, 2.6: 256, 5.4: 208, 5.6: 180, 2.4: 155, 5.8: 108, 2.2: 91, 2.0: 54, 6.0: 53, 1.8: 34, 6.2: 32, 1.6: 13, 6.4: 10, 1.4: 7, 6.6: 6, 1.2: 4, 6.8: 3, 1.0: 1})\n",
      "Counter({4.0: 696, 4.2: 660, 3.8: 642, 4.4: 632, 3.6: 621, 3.4: 543, 4.6: 536, 4.8: 489, 3.2: 476, 5.0: 401, 3.0: 362, 5.2: 296, 2.8: 285, 5.4: 206, 2.6: 191, 5.6: 153, 2.4: 147, 5.8: 105, 2.2: 95, 2.0: 73, 6.0: 52, 1.8: 35, 6.2: 28, 1.6: 17, 6.4: 16, 6.6: 9, 1.4: 6, 6.8: 3, 1.2: 1})\n",
      "Counter({4.2: 709, 4.0: 644, 3.8: 640, 4.4: 599, 3.4: 596, 3.6: 585, 4.6: 547, 4.8: 473, 3.2: 471, 5.0: 384, 3.0: 340, 5.2: 322, 2.8: 297, 5.4: 212, 2.6: 211, 5.6: 160, 2.4: 141, 2.2: 119, 5.8: 104, 6.0: 57, 2.0: 50, 6.2: 35, 1.8: 31, 6.4: 17, 1.6: 15, 6.6: 6, 1.4: 5, 1.2: 3, 6.8: 2, 7.0: 1})\n",
      "Counter({3.8: 685, 4.0: 664, 4.2: 636, 4.4: 625, 3.6: 590, 4.6: 550, 3.4: 546, 4.8: 502, 3.2: 471, 5.0: 381, 3.0: 372, 5.2: 305, 2.8: 287, 5.4: 229, 2.6: 200, 5.6: 180, 2.4: 141, 2.2: 92, 5.8: 92, 6.0: 72, 2.0: 53, 6.2: 35, 1.8: 21, 6.4: 19, 1.6: 13, 6.6: 6, 1.2: 3, 1.4: 3, 1.0: 2, 6.8: 1})\n",
      "Counter({4.0: 681, 4.2: 679, 4.4: 647, 3.8: 641, 3.6: 632, 3.4: 565, 4.6: 544, 4.8: 475, 3.2: 462, 5.0: 387, 3.0: 368, 2.8: 277, 5.2: 275, 2.6: 223, 5.4: 193, 2.4: 170, 5.6: 142, 5.8: 102, 2.2: 90, 6.0: 62, 2.0: 50, 1.8: 34, 6.2: 24, 6.4: 19, 1.6: 16, 6.6: 8, 1.4: 7, 6.8: 2, 1.2: 1})\n",
      "Counter({4.0: 726, 4.2: 680, 3.8: 638, 3.6: 619, 4.4: 593, 3.4: 542, 4.6: 537, 4.8: 480, 3.2: 475, 5.0: 390, 3.0: 389, 2.8: 317, 5.2: 299, 5.4: 224, 2.6: 191, 5.6: 140, 2.4: 134, 5.8: 99, 2.2: 82, 2.0: 63, 6.0: 45, 1.8: 32, 6.2: 30, 1.6: 18, 6.4: 12, 1.4: 7, 6.6: 6, 6.8: 3, 1.0: 2, 1.2: 2, 7.0: 1})\n",
      "Counter({4.2: 652, 4.0: 648, 3.8: 635, 4.4: 612, 3.6: 610, 4.6: 578, 3.4: 561, 4.8: 480, 3.2: 425, 5.0: 397, 3.0: 390, 2.8: 322, 5.2: 298, 5.4: 232, 2.6: 217, 2.4: 156, 5.6: 137, 5.8: 93, 2.2: 90, 2.0: 66, 6.0: 60, 1.8: 37, 6.2: 24, 1.6: 17, 6.4: 15, 1.4: 14, 6.6: 8, 1.0: 1, 1.2: 1})\n",
      "Counter({4.0: 704, 4.2: 667, 3.8: 652, 3.6: 614, 4.4: 575, 4.6: 555, 3.4: 552, 4.8: 484, 3.2: 454, 3.0: 374, 5.0: 338, 5.2: 327, 2.8: 299, 2.6: 242, 5.4: 214, 5.6: 152, 2.4: 148, 2.2: 96, 5.8: 91, 2.0: 65, 6.0: 46, 6.2: 40, 1.8: 33, 1.6: 17, 6.4: 17, 1.2: 6, 1.4: 5, 6.6: 5, 6.8: 4})\n",
      "Counter({4.0: 672, 4.2: 666, 4.4: 639, 3.8: 620, 3.4: 566, 3.6: 557, 4.6: 534, 4.8: 476, 3.2: 473, 5.0: 396, 3.0: 391, 5.2: 306, 2.8: 293, 5.4: 224, 2.6: 219, 2.4: 147, 5.6: 142, 2.2: 99, 5.8: 99, 2.0: 68, 6.0: 64, 6.2: 35, 1.8: 25, 1.6: 21, 6.4: 19, 6.6: 12, 1.4: 10, 6.8: 2, 1.0: 1})\n",
      "Counter({4.0: 681, 3.8: 638, 3.6: 631, 4.2: 624, 4.4: 606, 3.4: 549, 4.6: 541, 3.2: 478, 4.8: 460, 3.0: 388, 5.0: 366, 2.8: 315, 5.2: 300, 5.4: 250, 2.6: 209, 5.6: 152, 2.4: 148, 5.8: 102, 2.2: 83, 2.0: 64, 6.0: 57, 1.8: 45, 6.2: 30, 1.6: 28, 6.4: 18, 6.6: 6, 1.4: 5, 1.2: 1, 6.8: 1})\n",
      "Counter({3.6: 655, 4.2: 644, 4.0: 641, 3.8: 639, 4.4: 635, 4.6: 550, 3.4: 533, 4.8: 500, 3.2: 440, 3.0: 384, 5.0: 384, 5.2: 304, 2.8: 290, 2.6: 245, 5.4: 194, 5.6: 156, 2.4: 155, 5.8: 102, 2.2: 81, 2.0: 62, 6.0: 59, 6.2: 40, 1.8: 32, 1.6: 19, 6.4: 15, 1.4: 8, 6.6: 5, 6.8: 2, 1.2: 1, 7.0: 1})\n",
      "Counter({4.0: 674, 3.8: 645, 4.2: 638, 4.4: 625, 3.6: 620, 4.6: 572, 3.4: 551, 3.2: 466, 4.8: 443, 5.0: 421, 3.0: 368, 5.2: 324, 2.8: 284, 2.6: 228, 5.4: 203, 2.4: 165, 5.6: 146, 2.2: 97, 5.8: 83, 6.0: 65, 2.0: 49, 6.4: 26, 6.2: 25, 1.8: 22, 1.6: 15, 1.4: 11, 6.6: 7, 6.8: 2, 1.2: 1})\n",
      "Counter({4.0: 668, 3.6: 659, 4.2: 655, 3.8: 653, 4.4: 637, 4.6: 564, 3.4: 529, 4.8: 451, 3.2: 446, 3.0: 406, 5.0: 395, 2.8: 308, 5.2: 295, 5.4: 213, 2.6: 196, 2.4: 155, 5.6: 130, 5.8: 94, 2.2: 90, 2.0: 59, 6.0: 50, 1.8: 45, 6.2: 28, 6.4: 19, 1.6: 11, 1.4: 8, 6.6: 8, 1.0: 1, 1.2: 1, 6.8: 1, 7.0: 1})\n",
      "Counter({4.0: 702, 4.2: 644, 3.8: 624, 3.6: 619, 4.4: 619, 4.6: 587, 3.4: 553, 4.8: 469, 3.2: 447, 3.0: 390, 5.0: 365, 5.2: 310, 2.8: 304, 5.4: 213, 2.6: 209, 2.4: 158, 5.6: 155, 2.2: 94, 5.8: 83, 2.0: 58, 6.0: 52, 6.2: 39, 1.8: 27, 6.4: 25, 1.6: 15, 1.4: 8, 6.6: 4, 1.0: 1, 1.2: 1, 6.8: 1})\n",
      "Counter({3.8: 684, 4.2: 668, 3.6: 654, 4.0: 614, 4.4: 598, 3.4: 573, 4.6: 528, 4.8: 460, 3.2: 445, 3.0: 398, 5.0: 358, 5.2: 309, 2.8: 285, 2.6: 225, 5.4: 221, 5.6: 179, 2.4: 137, 5.8: 115, 2.2: 99, 2.0: 71, 6.0: 58, 1.8: 25, 6.4: 20, 6.2: 19, 1.6: 12, 1.4: 8, 6.6: 6, 6.8: 5, 1.0: 1, 7.0: 1})\n",
      "Counter({3.8: 678, 4.0: 678, 4.2: 667, 3.6: 592, 4.4: 589, 4.6: 573, 3.4: 552, 4.8: 475, 3.2: 461, 3.0: 389, 5.0: 388, 5.2: 293, 2.8: 283, 5.4: 223, 2.6: 202, 2.4: 166, 5.6: 136, 5.8: 101, 2.2: 93, 2.0: 64, 6.0: 58, 6.2: 34, 1.8: 27, 6.4: 27, 1.6: 11, 1.4: 8, 6.6: 6, 6.8: 2})\n",
      "Counter({3.8: 675, 4.0: 668, 4.4: 656, 4.2: 640, 3.6: 612, 3.4: 581, 4.6: 551, 4.8: 454, 3.2: 409, 5.0: 391, 3.0: 362, 2.8: 302, 5.2: 290, 5.4: 225, 2.6: 220, 5.6: 153, 2.4: 151, 5.8: 111, 2.2: 98, 2.0: 61, 6.0: 53, 1.8: 33, 6.2: 27, 1.6: 21, 6.4: 15, 6.6: 7, 1.2: 3, 6.8: 3, 1.0: 2, 1.4: 1, 7.0: 1})\n",
      "Counter({3.8: 689, 4.0: 674, 4.2: 671, 3.6: 617, 4.4: 615, 4.6: 566, 3.4: 544, 3.2: 492, 4.8: 448, 3.0: 414, 5.0: 374, 2.8: 292, 5.2: 260, 5.4: 238, 2.6: 217, 5.6: 148, 2.4: 138, 2.2: 90, 5.8: 79, 6.0: 64, 2.0: 45, 1.8: 28, 6.2: 24, 6.4: 16, 1.6: 15, 1.4: 7, 6.6: 5, 1.2: 3, 6.8: 3})\n",
      "Counter({3.8: 671, 4.4: 657, 4.0: 643, 4.2: 643, 3.6: 603, 4.6: 535, 3.4: 528, 4.8: 486, 3.2: 485, 3.0: 428, 5.0: 405, 2.8: 298, 5.2: 270, 2.6: 208, 5.4: 204, 5.6: 156, 2.4: 143, 2.2: 96, 5.8: 96, 2.0: 60, 6.0: 52, 1.8: 35, 6.2: 21, 6.4: 21, 1.6: 12, 6.6: 9, 1.2: 4, 1.4: 3, 6.8: 3, 7.0: 1})\n",
      "Counter({4.0: 680, 4.2: 673, 3.8: 632, 3.6: 617, 4.4: 593, 4.6: 562, 3.4: 545, 3.2: 478, 4.8: 443, 3.0: 402, 5.0: 380, 5.2: 294, 2.8: 291, 5.4: 240, 2.6: 214, 2.4: 173, 5.6: 129, 2.2: 112, 5.8: 90, 2.0: 55, 6.0: 54, 1.8: 38, 6.2: 27, 1.6: 19, 6.4: 16, 1.4: 9, 6.6: 5, 6.8: 4, 1.2: 1})\n",
      "Counter({4.2: 682, 4.0: 677, 3.8: 633, 3.6: 620, 4.4: 597, 3.4: 566, 4.6: 538, 3.2: 488, 4.8: 467, 5.0: 389, 3.0: 384, 5.2: 301, 2.8: 290, 2.6: 220, 5.4: 209, 5.6: 143, 2.4: 136, 2.2: 99, 5.8: 97, 2.0: 69, 6.0: 51, 1.8: 37, 6.2: 31, 1.6: 14, 6.4: 13, 6.6: 12, 1.4: 5, 6.8: 4, 1.2: 3, 1.0: 1})\n",
      "Counter({4.0: 689, 4.2: 653, 3.8: 644, 4.4: 625, 3.6: 621, 4.6: 560, 4.8: 493, 3.4: 483, 3.2: 455, 5.0: 384, 3.0: 380, 2.8: 303, 5.2: 278, 5.4: 231, 2.6: 213, 5.6: 160, 2.4: 148, 2.2: 100, 5.8: 96, 6.0: 72, 2.0: 68, 6.2: 31, 1.8: 30, 1.6: 22, 6.4: 16, 6.6: 10, 1.4: 5, 1.0: 2, 1.2: 2, 6.8: 1, 7.0: 1})\n",
      "Counter({4.2: 676, 4.0: 665, 3.8: 652, 3.6: 608, 4.4: 591, 4.6: 556, 3.4: 543, 3.2: 471, 4.8: 455, 5.0: 397, 3.0: 380, 5.2: 316, 2.8: 258, 2.6: 222, 5.4: 222, 5.6: 170, 2.4: 148, 2.2: 110, 5.8: 98, 6.0: 66, 2.0: 59, 6.2: 32, 1.8: 27, 1.6: 17, 6.6: 15, 6.4: 12, 1.4: 6, 6.8: 3, 1.2: 1})\n",
      "Counter({3.8: 664, 4.4: 655, 4.0: 642, 4.2: 639, 3.6: 592, 3.4: 564, 4.6: 554, 3.2: 478, 4.8: 465, 5.0: 409, 3.0: 360, 2.8: 318, 5.2: 317, 2.6: 227, 5.4: 195, 5.6: 148, 2.4: 139, 2.2: 87, 5.8: 87, 2.0: 60, 6.0: 52, 6.2: 42, 1.8: 34, 1.6: 17, 6.4: 14, 1.4: 10, 6.6: 4, 1.2: 2, 6.8: 1})\n",
      "Counter({4.0: 694, 4.2: 687, 3.8: 619, 4.4: 616, 3.6: 610, 4.6: 563, 3.4: 541, 3.2: 480, 4.8: 471, 3.0: 382, 5.0: 369, 2.8: 299, 5.2: 291, 5.4: 213, 2.6: 206, 2.4: 156, 5.6: 133, 5.8: 111, 2.2: 95, 2.0: 57, 6.0: 53, 1.8: 36, 6.2: 29, 6.4: 21, 1.6: 19, 6.6: 11, 1.4: 9, 1.0: 2, 1.2: 2, 6.8: 1})\n",
      "Counter({4.0: 699, 3.6: 644, 4.2: 642, 3.8: 617, 4.4: 608, 3.4: 561, 4.6: 539, 3.2: 458, 4.8: 422, 5.0: 380, 3.0: 379, 2.8: 321, 5.2: 294, 5.4: 234, 2.6: 218, 5.6: 159, 2.4: 149, 2.2: 110, 5.8: 92, 2.0: 67, 6.0: 54, 1.8: 35, 6.2: 33, 1.6: 31, 6.4: 12, 1.4: 7, 6.6: 6, 6.8: 2, 1.0: 1, 1.2: 1, 7.0: 1})\n",
      "Counter({4.0: 682, 4.2: 666, 3.8: 655, 3.6: 650, 4.4: 575, 3.4: 538, 4.6: 501, 3.2: 497, 4.8: 478, 5.0: 410, 3.0: 399, 5.2: 299, 2.8: 284, 5.4: 216, 2.6: 198, 5.6: 165, 2.4: 149, 2.2: 97, 5.8: 90, 6.0: 57, 2.0: 51, 6.2: 33, 1.8: 32, 6.4: 18, 1.4: 13, 1.6: 11, 6.6: 6, 6.8: 4, 1.0: 1, 1.2: 1})\n",
      "Counter({4.0: 715, 3.6: 662, 3.8: 648, 4.4: 569, 4.2: 568, 3.4: 538, 4.6: 525, 3.2: 509, 4.8: 507, 5.0: 368, 3.0: 367, 2.8: 317, 5.2: 313, 2.6: 225, 5.4: 191, 2.4: 155, 5.6: 148, 5.8: 109, 2.2: 101, 2.0: 59, 6.0: 58, 6.2: 39, 1.8: 29, 1.6: 19, 6.4: 19, 6.6: 7, 1.2: 5, 1.4: 3, 7.0: 2, 6.8: 1})\n"
     ]
    },
    {
     "name": "stdout",
     "output_type": "stream",
     "text": [
      "Counter({3.8: 664, 4.4: 657, 4.2: 636, 3.6: 635, 4.0: 621, 4.6: 557, 3.4: 551, 3.2: 482, 4.8: 446, 5.0: 417, 3.0: 385, 2.8: 289, 5.2: 269, 5.4: 232, 2.6: 225, 5.6: 146, 2.4: 135, 5.8: 103, 2.2: 94, 6.0: 55, 2.0: 48, 1.8: 39, 6.2: 27, 6.4: 25, 1.6: 15, 6.6: 9, 1.4: 5, 1.2: 3, 1.0: 2, 6.8: 2, 7.0: 2})\n",
      "Counter({4.0: 712, 3.8: 672, 4.2: 661, 4.4: 653, 4.6: 601, 3.6: 573, 3.4: 559, 3.2: 448, 4.8: 445, 5.0: 391, 3.0: 345, 2.8: 306, 5.2: 292, 5.4: 212, 2.6: 205, 5.6: 155, 2.4: 138, 5.8: 113, 2.2: 88, 6.0: 55, 2.0: 48, 6.2: 29, 1.8: 28, 1.6: 18, 1.4: 12, 6.4: 9, 6.6: 4, 1.2: 2, 6.8: 2})\n",
      "Counter({3.8: 680, 4.4: 647, 4.2: 636, 4.0: 624, 3.6: 606, 3.4: 556, 4.8: 509, 4.6: 495, 3.2: 457, 3.0: 371, 5.0: 368, 5.2: 307, 2.8: 293, 5.4: 223, 2.6: 219, 2.4: 161, 5.6: 159, 2.2: 118, 5.8: 109, 2.0: 63, 6.0: 56, 1.8: 35, 6.4: 22, 6.2: 21, 1.6: 18, 6.6: 11, 1.4: 6, 1.2: 3, 6.8: 3})\n",
      "Counter({4.0: 675, 4.2: 655, 3.8: 642, 3.6: 615, 4.4: 595, 4.6: 555, 3.4: 532, 4.8: 530, 3.2: 476, 3.0: 395, 5.0: 395, 5.2: 309, 2.8: 278, 5.4: 228, 2.6: 210, 2.4: 145, 5.6: 131, 2.2: 85, 5.8: 80, 6.0: 58, 2.0: 51, 6.2: 43, 1.8: 34, 1.6: 25, 6.4: 17, 6.6: 7, 1.2: 5, 1.4: 3, 6.8: 2})\n",
      "Counter({3.8: 652, 4.4: 634, 3.6: 626, 4.0: 622, 4.2: 620, 4.6: 558, 3.4: 553, 4.8: 501, 3.2: 437, 5.0: 411, 3.0: 354, 5.2: 298, 2.8: 285, 2.6: 249, 5.4: 204, 5.6: 164, 2.4: 163, 5.8: 100, 2.2: 86, 6.0: 65, 2.0: 53, 6.2: 41, 1.8: 35, 1.6: 21, 6.4: 19, 1.4: 10, 6.6: 9, 6.8: 4, 7.0: 2})\n",
      "Counter({4.0: 668, 4.2: 647, 3.8: 620, 4.4: 616, 3.6: 615, 4.6: 560, 3.4: 558, 3.2: 454, 4.8: 454, 3.0: 418, 5.0: 409, 2.8: 311, 5.2: 300, 2.6: 244, 5.4: 202, 5.6: 146, 2.4: 143, 2.2: 102, 5.8: 98, 2.0: 48, 6.0: 47, 6.2: 37, 1.8: 31, 1.6: 12, 6.4: 12, 1.4: 9, 6.6: 7, 6.8: 4, 1.2: 2, 7.0: 2})\n",
      "Counter({4.4: 646, 3.8: 634, 4.0: 615, 4.2: 612, 3.6: 608, 3.4: 556, 4.6: 530, 4.8: 461, 3.2: 435, 5.0: 430, 3.0: 391, 2.8: 323, 5.2: 290, 2.6: 248, 5.4: 227, 5.6: 163, 2.4: 151, 2.2: 103, 5.8: 93, 2.0: 77, 6.0: 62, 1.8: 38, 6.2: 35, 1.6: 19, 1.4: 11, 6.4: 9, 6.6: 6, 1.2: 2, 7.0: 1})\n",
      "Counter({3.8: 685, 4.0: 659, 4.4: 654, 3.6: 635, 4.2: 633, 3.4: 580, 4.6: 537, 3.2: 465, 4.8: 439, 3.0: 381, 5.0: 380, 5.2: 301, 2.8: 287, 2.6: 220, 5.4: 210, 5.6: 150, 2.4: 117, 2.2: 108, 5.8: 100, 2.0: 62, 6.0: 56, 6.2: 29, 1.8: 28, 6.4: 22, 1.6: 21, 1.4: 6, 6.6: 4, 6.8: 3, 7.0: 2, 1.0: 1, 1.2: 1})\n",
      "Counter({4.2: 706, 3.8: 677, 4.0: 632, 3.6: 628, 4.4: 591, 3.4: 554, 4.6: 523, 3.2: 500, 4.8: 458, 5.0: 384, 3.0: 369, 2.8: 300, 5.2: 262, 5.4: 221, 2.6: 212, 2.4: 176, 5.6: 158, 5.8: 104, 2.2: 96, 6.0: 61, 2.0: 57, 1.8: 33, 6.2: 33, 6.4: 14, 1.6: 10, 1.4: 8, 6.6: 5, 1.2: 2, 1.0: 1, 6.8: 1})\n",
      "Counter({4.0: 679, 3.8: 678, 4.2: 660, 3.6: 610, 4.4: 585, 3.4: 568, 4.6: 561, 4.8: 456, 3.2: 426, 3.0: 392, 5.0: 382, 5.2: 319, 2.8: 290, 2.6: 224, 5.4: 213, 2.4: 157, 5.6: 138, 5.8: 95, 2.2: 92, 2.0: 67, 6.0: 63, 6.2: 39, 1.8: 33, 6.4: 20, 1.6: 12, 1.4: 7, 6.6: 6, 6.8: 2, 1.2: 1, 7.0: 1})\n",
      "Counter({4.0: 685, 3.6: 657, 4.2: 654, 3.8: 652, 4.4: 596, 4.6: 553, 3.4: 536, 3.2: 486, 4.8: 441, 3.0: 411, 5.0: 339, 5.2: 321, 2.8: 295, 2.6: 225, 5.4: 190, 2.4: 148, 5.6: 148, 2.2: 94, 5.8: 89, 2.0: 73, 6.0: 59, 6.2: 35, 1.8: 30, 6.4: 21, 1.6: 20, 6.6: 9, 6.8: 4, 1.4: 3, 1.2: 2})\n",
      "Counter({4.0: 702, 3.8: 654, 4.2: 642, 4.4: 625, 3.6: 602, 3.4: 576, 4.6: 517, 3.2: 472, 4.8: 458, 3.0: 395, 5.0: 357, 2.8: 298, 5.2: 266, 5.4: 233, 2.6: 229, 2.4: 172, 5.6: 147, 5.8: 103, 2.2: 83, 2.0: 69, 6.0: 56, 1.8: 36, 6.2: 28, 6.4: 22, 1.6: 20, 1.4: 5, 6.6: 4, 1.2: 2, 6.8: 2, 7.0: 1})\n",
      "Counter({3.8: 683, 4.0: 654, 4.2: 634, 4.4: 627, 3.6: 622, 3.4: 556, 4.6: 545, 4.8: 511, 3.2: 476, 5.0: 384, 3.0: 365, 5.2: 284, 2.8: 271, 5.4: 225, 2.6: 214, 5.6: 149, 2.4: 143, 5.8: 92, 2.2: 91, 2.0: 64, 6.0: 58, 1.8: 35, 6.2: 34, 6.4: 23, 1.6: 17, 6.6: 8, 1.4: 6, 1.2: 3, 6.8: 2})\n",
      "Counter({4.2: 666, 4.4: 649, 4.0: 648, 3.8: 637, 3.6: 626, 3.4: 575, 4.6: 549, 4.8: 461, 3.2: 424, 5.0: 422, 3.0: 382, 2.8: 309, 5.2: 272, 2.6: 214, 5.4: 209, 2.4: 150, 5.6: 150, 2.2: 103, 5.8: 100, 2.0: 61, 6.0: 50, 6.2: 44, 1.8: 35, 6.4: 14, 1.6: 12, 6.6: 5, 1.0: 3, 1.2: 2, 1.4: 2, 6.8: 1, 7.0: 1})\n",
      "Counter({3.8: 689, 4.0: 670, 3.6: 657, 4.4: 611, 4.2: 590, 3.4: 563, 4.6: 530, 4.8: 486, 3.2: 461, 3.0: 388, 5.0: 376, 2.8: 304, 5.2: 284, 2.6: 232, 5.4: 193, 5.6: 165, 2.4: 127, 2.2: 93, 5.8: 89, 2.0: 68, 6.0: 61, 6.2: 42, 1.8: 38, 1.4: 16, 6.4: 16, 1.6: 12, 6.8: 7, 1.2: 4, 6.6: 3, 7.0: 1})\n",
      "Counter({4.0: 697, 4.2: 667, 3.8: 662, 3.6: 630, 4.4: 586, 4.6: 567, 3.4: 546, 4.8: 484, 3.2: 477, 5.0: 399, 3.0: 334, 2.8: 294, 5.2: 287, 2.6: 212, 5.4: 210, 5.6: 160, 2.4: 156, 2.2: 97, 5.8: 82, 6.0: 62, 6.2: 48, 2.0: 42, 1.8: 26, 6.4: 13, 1.6: 12, 1.4: 10, 6.6: 7, 1.2: 3, 6.8: 3, 1.0: 2, 7.0: 1})\n",
      "Counter({4.0: 701, 3.8: 688, 4.2: 665, 3.6: 598, 4.4: 592, 4.6: 549, 3.4: 530, 4.8: 473, 3.2: 468, 5.0: 374, 3.0: 365, 5.2: 304, 2.8: 293, 5.4: 234, 2.6: 214, 2.4: 155, 5.6: 153, 2.2: 98, 5.8: 95, 6.0: 60, 2.0: 58, 6.2: 31, 1.8: 26, 1.6: 17, 6.4: 12, 6.6: 10, 1.4: 9, 6.8: 3, 1.2: 1})\n",
      "Counter({4.2: 711, 4.0: 694, 3.8: 656, 4.4: 606, 3.4: 596, 3.6: 563, 4.6: 555, 4.8: 464, 3.2: 456, 3.0: 362, 5.0: 357, 2.8: 306, 5.2: 301, 5.4: 211, 2.6: 209, 2.4: 150, 5.6: 143, 2.2: 109, 5.8: 91, 6.0: 63, 2.0: 54, 1.8: 37, 6.2: 32, 6.4: 21, 1.6: 15, 1.4: 6, 6.6: 5, 1.2: 1, 6.8: 1, 7.0: 1})\n",
      "Counter({4.0: 710, 4.2: 660, 3.8: 655, 4.4: 630, 3.6: 591, 3.4: 548, 4.6: 505, 3.2: 473, 4.8: 470, 5.0: 427, 3.0: 368, 2.8: 314, 5.2: 279, 5.4: 218, 2.6: 217, 2.4: 149, 5.6: 145, 5.8: 84, 2.2: 79, 2.0: 62, 6.0: 52, 1.8: 41, 6.2: 37, 6.4: 25, 1.6: 19, 6.6: 6, 1.4: 5, 6.8: 4, 1.2: 3})\n",
      "Counter({3.8: 677, 3.6: 660, 4.2: 651, 4.0: 619, 4.4: 610, 3.4: 554, 4.6: 518, 3.2: 482, 4.8: 468, 5.0: 414, 3.0: 375, 2.8: 310, 5.2: 280, 5.4: 201, 2.6: 193, 2.4: 168, 5.6: 162, 2.2: 97, 5.8: 85, 2.0: 80, 6.0: 60, 1.8: 30, 6.2: 28, 1.6: 16, 6.4: 13, 1.4: 9, 6.6: 8, 6.8: 3, 1.2: 2, 7.0: 2, 1.0: 1})\n"
     ]
    }
   ],
   "source": [
    "#5 times dice throw\n",
    "\n",
    "import numpy as np \n",
    "import math\n",
    "from random import randint\n",
    "from matplotlib import pyplot as plt\n",
    "from collections import Counter\n",
    "\n",
    "for i in range(50):\n",
    "    RV = 0\n",
    "    MeanBar = []\n",
    "    N = 5\n",
    "    for i in range(0,7776):\n",
    "        RV = 0\n",
    "        for i in range(0,N):\n",
    "            RV = RV+randint(1,7)        \n",
    "        RV = RV/N\n",
    "        MeanBar.append(RV)\n",
    "\n",
    "    MeanBar.sort()\n",
    "\n",
    "    FreqValue = Counter(MeanBar)\n",
    "    print(FreqValue)\n",
    "    a = list(FreqValue.values())\n",
    "    b = list(FreqValue.keys())\n",
    "    plt.bar(b,a, align=\"center\")\n",
    "    #plt.show()"
   ]
  },
  {
   "cell_type": "code",
   "execution_count": 3,
   "metadata": {},
   "outputs": [
    {
     "data": {
      "image/png": "[encoded data removed]",
      "text/plain": [
       "<Figure size 432x288 with 1 Axes>"
      ]
     },
     "metadata": {},
     "output_type": "display_data"
    }
   ],
   "source": [
    "#10 times dice throw\n",
    "\n",
    "import numpy as np \n",
    "import math\n",
    "from random import randint\n",
    "from matplotlib import pyplot as plt\n",
    "from collections import Counter\n",
    "\n",
    "RV = 0\n",
    "MeanBar = []\n",
    "N = 400\n",
    "for i in range(0,100000):\n",
    "    RV = 0\n",
    "    for i in range(0,N):\n",
    "        RV = RV+randint(1,7)        \n",
    "    RV = RV/N\n",
    "    MeanBar.append(RV)\n",
    "\n",
    "MeanBar.sort()\n",
    "\n",
    "FreqValue = Counter(MeanBar)\n",
    "a = list(FreqValue.values())\n",
    "b = list(FreqValue.keys())\n",
    "plt.bar(b,a)\n",
    "plt.show()"
   ]
  },
  {
   "cell_type": "code",
   "execution_count": 4,
   "metadata": {},
   "outputs": [
    {
     "name": "stdout",
     "output_type": "stream",
     "text": [
      "Counter({4: 455530, 5: 359155, 3: 129317, 6: 50011, 2: 5694, 7: 285, 1: 8})\n"
     ]
    },
    {
     "data": {
      "image/png": "[encoded data removed]",
      "text/plain": [
       "<Figure size 432x288 with 1 Axes>"
      ]
     },
     "metadata": {},
     "output_type": "display_data"
    },
    {
     "name": "stdout",
     "output_type": "stream",
     "text": [
      "Counter({4: 455012, 5: 359327, 3: 129731, 6: 49869, 2: 5777, 7: 279, 1: 5})\n"
     ]
    },
    {
     "data": {
      "image/png": "[encoded data removed]",
      "text/plain": [
       "<Figure size 432x288 with 1 Axes>"
      ]
     },
     "metadata": {},
     "output_type": "display_data"
    },
    {
     "name": "stdout",
     "output_type": "stream",
     "text": [
      "Counter({4: 455925, 5: 359574, 3: 129170, 6: 49312, 2: 5725, 7: 287, 1: 7})\n"
     ]
    },
    {
     "data": {
      "image/png": "[encoded data removed]",
      "text/plain": [
       "<Figure size 432x288 with 1 Axes>"
      ]
     },
     "metadata": {},
     "output_type": "display_data"
    },
    {
     "name": "stdout",
     "output_type": "stream",
     "text": [
      "Counter({4: 455912, 5: 358161, 3: 130026, 6: 49800, 2: 5824, 7: 272, 1: 5})\n"
     ]
    },
    {
     "data": {
      "image/png": "[encoded data removed]",
      "text/plain": [
       "<Figure size 432x288 with 1 Axes>"
      ]
     },
     "metadata": {},
     "output_type": "display_data"
    },
    {
     "name": "stdout",
     "output_type": "stream",
     "text": [
      "Counter({4: 455144, 5: 359742, 3: 129631, 6: 49459, 2: 5737, 7: 279, 1: 8})\n"
     ]
    },
    {
     "data": {
      "image/png": "[encoded data removed]",
      "text/plain": [
       "<Figure size 432x288 with 1 Axes>"
      ]
     },
     "metadata": {},
     "output_type": "display_data"
    }
   ],
   "source": [
    "# Sample Distribution using median\n",
    "#sample size 5\n",
    "import numpy as np \n",
    "import math\n",
    "from random import randint\n",
    "from matplotlib import pyplot as plt\n",
    "from collections import Counter\n",
    "for i in range(5):\n",
    "    MeanBar = []\n",
    "    N = 21\n",
    "    for i in range(0, 1000000):\n",
    "        RV = []\n",
    "        for i in range(0,N):\n",
    "            RV.append(randint(1,7))\n",
    "        RV.sort()\n",
    "        MeanBar.append(RV[11])\n",
    "    MeanBar.sort()\n",
    "\n",
    "    FreqValue = Counter(MeanBar)\n",
    "    print(FreqValue)\n",
    "    \n",
    "    a = list(FreqValue.values())\n",
    "    b = list(FreqValue.keys())\n",
    "    plt.bar(b,a, align=\"center\")\n",
    "    plt.show()"
   ]
  },
  {
   "cell_type": "code",
   "execution_count": null,
   "metadata": {},
   "outputs": [],
   "source": []
  }
 ],
 "metadata": {
  "kernelspec": {
   "display_name": "Python 3",
   "language": "python",
   "name": "python3"
  },
  "language_info": {
   "codemirror_mode": {
    "name": "ipython",
    "version": 3
   },
   "file_extension": ".py",
   "mimetype": "text/x-python",
   "name": "python",
   "nbconvert_exporter": "python",
   "pygments_lexer": "ipython3",
   "version": "3.6.5"
  }
 },
 "nbformat": 4,
 "nbformat_minor": 2
}
